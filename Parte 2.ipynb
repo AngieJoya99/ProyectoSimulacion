{
 "cells": [
  {
   "cell_type": "markdown",
   "metadata": {},
   "source": [
    "**Importar dataset**\n",
    "\n",
    "Convertir archivo CSV a HDF5"
   ]
  },
  {
   "cell_type": "code",
   "execution_count": 1,
   "metadata": {},
   "outputs": [],
   "source": [
    "#Importar librerías necesarias\n",
    "\n",
    "import pandas as pd\n",
    "import numpy as np\n",
    "import h5py\n",
    "import os\n",
    "import torch\n",
    "from torch.utils.data import Dataset\n",
    "from torch.utils.data import DataLoader\n",
    "\n",
    "#Obtener directorio actual y a partir de él, encontrar la ubicación del dataset en formato csv\n",
    "\n",
    "current_dir = os.getcwd()\n",
    "csv_path = os.path.join(current_dir, 'dataset', 'Train.csv')\n",
    "\n",
    "#num_lines es el número de entradas y num_features es la cantidad de atributos (exceptuando la categoría)\n",
    "num_lines = 750\n",
    "num_features = 7\n",
    "\n",
    "class_dict = {'low': 0, 'medium': 1, 'high': 2}\n",
    "chunksize = 10\n",
    "\n",
    "with h5py.File('Train.h5', 'w') as h5f:\n",
    "    \n",
    "  dset1 = h5f.create_dataset(\n",
    "    'features',\n",
    "    shape=(num_lines, num_features),\n",
    "    compression=None,\n",
    "    dtype='float32'\n",
    "  )\n",
    "  dset2 = h5f.create_dataset(\n",
    "    'labels',\n",
    "    shape=(num_lines,),\n",
    "    compression=None,\n",
    "    dtype='int32')\n",
    "\n",
    "  for i in range(0, num_lines, chunksize):  \n",
    "    \n",
    "    df = pd.read_csv(\n",
    "      csv_path,  \n",
    "      header=None,  \n",
    "      nrows=chunksize, \n",
    "      skiprows=i \n",
    "    )   \n",
    "    \n",
    "    df[7] = df[7].map(class_dict)\n",
    "\n",
    "    features = df.values[:, :7]\n",
    "    labels = df.values[:, -1]\n",
    "    \n",
    "    dset1[i:i+10, :] = features\n",
    "    dset2[i:i+10] = labels"
   ]
  },
  {
   "cell_type": "markdown",
   "metadata": {},
   "source": [
    "Implementar una clase Dataset personalizada"
   ]
  },
  {
   "cell_type": "code",
   "execution_count": 2,
   "metadata": {},
   "outputs": [],
   "source": [
    "class Hdf5Dataset(Dataset):\n",
    "  def __init__(self, h5_path, transform=None):\n",
    "  \n",
    "    self.h5f = h5py.File(h5_path, 'r')\n",
    "    self.num_entries = self.h5f['labels'].shape[0]\n",
    "    self.transform = transform\n",
    "\n",
    "  def __getitem__(self, index):\n",
    "      \n",
    "    features = self.h5f['features'][index]\n",
    "    label = self.h5f['labels'][index]\n",
    "    if self.transform is not None:\n",
    "      features = self.transform(features)\n",
    "    return features, label\n",
    "\n",
    "  def __len__(self):\n",
    "    return self.num_entries"
   ]
  },
  {
   "cell_type": "markdown",
   "metadata": {},
   "source": [
    "Inicializar DataLoader"
   ]
  },
  {
   "cell_type": "code",
   "execution_count": 3,
   "metadata": {},
   "outputs": [],
   "source": [
    "train_dataset = Hdf5Dataset(h5_path='Train.h5', transform=None)\n",
    "\n",
    "train_loader = DataLoader(\n",
    "  dataset=train_dataset,\n",
    "  batch_size=10,\n",
    "  shuffle=True,\n",
    ") "
   ]
  },
  {
   "cell_type": "code",
   "execution_count": 4,
   "metadata": {},
   "outputs": [
    {
     "data": {
      "text/plain": [
       "'device = torch.device(\"cuda:0\" if torch.cuda.is_available() else \"cpu\")\\ntorch.manual_seed(0)\\n\\nnum_epochs = 5\\nfor epoch in range(num_epochs):\\n\\n  for batch_idx, (x, y) in enumerate(train_loader):\\n      \\n    print(\\'Epoch:\\', epoch+1, end=\\'\\')\\n    print(\\' | Batch index:\\', batch_idx, end=\\'\\')\\n    print(\\' | Batch size:\\', y.size()[0])\\n    \\n    x = x.to(device)\\n    y = y.to(device)'"
      ]
     },
     "execution_count": 4,
     "metadata": {},
     "output_type": "execute_result"
    }
   ],
   "source": [
    "'''\n",
    "device = torch.device(\"cuda:0\" if torch.cuda.is_available() else \"cpu\")\n",
    "torch.manual_seed(0)\n",
    "\n",
    "num_epochs = 5\n",
    "for epoch in range(num_epochs):\n",
    "\n",
    "  for batch_idx, (x, y) in enumerate(train_loader):\n",
    "      \n",
    "    print('Epoch:', epoch+1, end='')\n",
    "    print(' | Batch index:', batch_idx, end='')\n",
    "    print(' | Batch size:', y.size()[0])\n",
    "    \n",
    "    x = x.to(device)\n",
    "    y = y.to(device)\n",
    "'''\n"
   ]
  },
  {
   "cell_type": "markdown",
   "metadata": {},
   "source": [
    "**Desarrollo Guía 2**"
   ]
  },
  {
   "cell_type": "code",
   "execution_count": 5,
   "metadata": {},
   "outputs": [
    {
     "name": "stdout",
     "output_type": "stream",
     "text": [
      "<class 'torch.Tensor'>\n",
      "torch.Size([10, 7])\n",
      "torch.Size([10])\n"
     ]
    }
   ],
   "source": [
    "%matplotlib inline\n",
    "%config InlineBackend.figure_format = 'retina'\n",
    "\n",
    "#import helper\n",
    "import matplotlib.pyplot as plt\n",
    "\n",
    "dataiter = iter(train_loader)\n",
    "images, labels = next(dataiter)\n",
    "print(type(images))\n",
    "print(images.shape)\n",
    "print(labels.shape)"
   ]
  },
  {
   "cell_type": "code",
   "execution_count": null,
   "metadata": {},
   "outputs": [],
   "source": [
    "def softmax(x):\n",
    "    return torch.exp(x)/torch.sum(torch.exp(x), dim=1).view(-1, 1)\n",
    "\n",
    "probabilities = softmax(out)\n",
    "\n",
    "# Does it have the right shape? Should be (64, 10)\n",
    "print(probabilities.shape)\n",
    "# Does it sum to 1?\n",
    "print(probabilities.sum(dim=1))"
   ]
  }
 ],
 "metadata": {
  "kernelspec": {
   "display_name": "Python 3",
   "language": "python",
   "name": "python3"
  },
  "language_info": {
   "codemirror_mode": {
    "name": "ipython",
    "version": 3
   },
   "file_extension": ".py",
   "mimetype": "text/x-python",
   "name": "python",
   "nbconvert_exporter": "python",
   "pygments_lexer": "ipython3",
   "version": "3.12.6"
  }
 },
 "nbformat": 4,
 "nbformat_minor": 2
}
