{
 "cells": [
  {
   "cell_type": "markdown",
   "metadata": {},
   "source": [
    "**Angie Carolina Joya  Duarte - 2322609**\n",
    "\n",
    "**Emily Nuñez Ordoñez - 2240156**\n",
    "\n",
    "**Hassen Ortiz Alvarez - 2177273**"
   ]
  },
  {
   "cell_type": "markdown",
   "metadata": {},
   "source": [
    "Se importan las librerías necesarias y se configuran los parámetros de la librería matplotlib para que las gráficas que va a generar sean embebidas en el notebook"
   ]
  },
  {
   "cell_type": "code",
   "execution_count": 1,
   "metadata": {},
   "outputs": [],
   "source": [
    "import pandas as pd\n",
    "import numpy as np\n",
    "import h5py\n",
    "import os\n",
    "import torch\n",
    "import matplotlib.pyplot as plt\n",
    "import torch.nn.functional as F\n",
    "\n",
    "from torch.utils.data import Dataset, DataLoader\n",
    "from torchvision.datasets import ImageFolder\n",
    "from torchvision import transforms\n",
    "from torch import nn, optim\n",
    "from collections import OrderedDict\n",
    "from sklearn.metrics import precision_score, recall_score, f1_score, accuracy_score, confusion_matrix\n",
    "\n",
    "%matplotlib inline\n",
    "%config InlineBackend.figure_format = 'retina'"
   ]
  },
  {
   "cell_type": "markdown",
   "metadata": {},
   "source": [
    "Se definen algunas variables relacionadas con las propiedades del conjunto de datos para ser utilizadas en funciones posteriores. El ancho y alto corresponden a la mitad de la resolución original de las imagenes del conjunto de datos, pues debido a limitaciones de Hardware no se pudieron procesar en su tamaño original."
   ]
  },
  {
   "cell_type": "code",
   "execution_count": 2,
   "metadata": {},
   "outputs": [],
   "source": [
    "ancho = 160\n",
    "alto = 129\n",
    "canales = 3\n",
    "pixeles = ancho*alto*canales\n",
    "cantidadClases = 5\n",
    "clases = ['Banano', 'Granada', 'Kiwi', 'Mango', 'Pitaya']\n",
    "batchSize = 64"
   ]
  },
  {
   "cell_type": "markdown",
   "metadata": {},
   "source": [
    "Importamos el conjunto de datos de entrenamiento y de prueba, el cuál se llama Fruit Recognition y se puede encontrar en el siguiente enlace: https://www.kaggle.com/datasets/chrisfilo/fruit-recognition. Las impagenes importadas son transformadeas en tensores\n",
    "\n",
    "El conjunto de datos se modifica para este ejercicio. Originalmente contiene 44.406 imágenes a color de 320×258 pixels, clasificadas en 25 clases. Para este proyecto se seleccionaron 5 clases: Banano, Granada, Kiwi, Mango y Pitaya; Para cada clase se seleccionaron 1500 imágenes para el entrenamiento y 500 imágenes para las pruebas, obteniendo en total 7500 imágenes de entenamiento y 2500 de prueba. También se \n",
    "\n",
    "Durante la importación se define el atributo barajar (shuffle) como verdadero, esto permite que las imágenes sean cargadas en un orden aleatorio para que el modelo no tome en cuneta el orden de los datos en sus predicciones.\n",
    "\n",
    "Además, se realiza la normalización de los valores para que estén centrados en torno a un valor promedio específico, en este caso estarían centrados alrededor de 0 y variarían en un rango aproximado de (−1,1). Esto ayuda a acelerar el entrenamiento, mejorar la convergencia y aumentar la consistencia entre los datos."
   ]
  },
  {
   "cell_type": "code",
   "execution_count": 3,
   "metadata": {},
   "outputs": [],
   "source": [
    "transform = transforms.Compose([transforms.Resize((ancho, alto)),transforms.ToTensor(), \n",
    "  transforms.Normalize((0.5,), (0.5,)),])\n",
    "current_dir = os.getcwd()\n",
    "dataset_path = os.path.join(current_dir, 'dataset', 'Frutas', 'Train')\n",
    "trainset = ImageFolder(root=dataset_path, transform=transform)\n",
    "trainloader = DataLoader(trainset, batch_size=batchSize, shuffle=True)\n",
    "\n",
    "testset_path = os.path.join(current_dir, 'dataset', 'Frutas', 'Test')\n",
    "testset = ImageFolder(root=testset_path, transform=transform)\n",
    "testloader = DataLoader(testset, batch_size=batchSize, shuffle=True)"
   ]
  },
  {
   "cell_type": "markdown",
   "metadata": {},
   "source": [
    "Se define la función view_classify, que nos permitirá graficar la probabilidad de las clases para nuestras predicciones. Esta función es una modificación de la función que se encuentra en el archivo helper.py del repositorio guía https://github.com/udacity/deep-learning-v2-pytorch/tree/master/intro-to-pytorch"
   ]
  },
  {
   "cell_type": "code",
   "execution_count": 4,
   "metadata": {},
   "outputs": [],
   "source": [
    "def view_classify(img, ps):\n",
    "  ps = ps.data.numpy().squeeze()\n",
    "  fig, (ax1, ax2) = plt.subplots(figsize=(16,13), ncols=2)\n",
    "  ax1.imshow(img.numpy().transpose((1, 2, 0)))\n",
    "  ax1.axis('off')\n",
    "  ax2.barh(np.arange(cantidadClases), ps)\n",
    "  ax2.set_aspect(0.1)\n",
    "  ax2.set_yticks(np.arange(cantidadClases))\n",
    "  ax2.set_yticklabels(clases, size='medium');\n",
    "  ax2.set_title('Probabilidad de las Clases')\n",
    "  ax2.set_xlim(0, 1.1)\n",
    "\n",
    "  plt.tight_layout()"
   ]
  },
  {
   "cell_type": "markdown",
   "metadata": {},
   "source": [
    "Paper: https://doi.org/10.3390/electronics12143132"
   ]
  },
  {
   "cell_type": "code",
   "execution_count": null,
   "metadata": {},
   "outputs": [],
   "source": [
    "class Network(nn.Module):\n",
    "  def __init__(self):\n",
    "    super().__init__()\n",
    "    self.fc1 = nn.Linear(pixeles, 20640)\n",
    "    self.fc2 = nn.Linear(20640, 6880)\n",
    "    self.fc3 = nn.Linear(6880, 2293)\n",
    "    self.fc4 = nn.Linear(2293, 764)\n",
    "    self.fc5 = nn.Linear(764, 254)\n",
    "    self.fc6 = nn.Linear(254, 84)\n",
    "    self.fc7 = nn.Linear(84, cantidadClases)\n",
    "    self.dropout = nn.Dropout(p=0.2)\n",
    "      \n",
    "  def forward(self, x):\n",
    "    \n",
    "    x = F.relu(self.fc1(x))\n",
    "    x = F.relu(self.fc2(x))\n",
    "    x = F.relu(self.fc3(x))\n",
    "    x = F.relu(self.fc4(x))\n",
    "    x = F.relu(self.fc5(x))\n",
    "    x = F.relu(self.fc6(x))\n",
    "    x = F.log_softmax(self.fc7(x), dim=1)\n",
    "    \n",
    "    return x"
   ]
  },
  {
   "cell_type": "code",
   "execution_count": null,
   "metadata": {},
   "outputs": [],
   "source": [
    "model = Network()\n",
    "criterion = nn.NLLLoss()\n",
    "optimizer = optim.SGD(model.parameters(), lr=0.01)\n",
    "image, label = next(iter(trainloader))"
   ]
  },
  {
   "cell_type": "code",
   "execution_count": null,
   "metadata": {},
   "outputs": [],
   "source": [
    "def plot_confusion_matrix(cm, class_names, title=\"Matriz de Confusión\"):\n",
    "  fig, ax = plt.subplots(figsize=(6, 6))\n",
    "  cax = ax.matshow(cm, cmap=plt.cm.Blues)\n",
    "  plt.colorbar(cax)\n",
    "\n",
    "  for (i, j), val in np.ndenumerate(cm):\n",
    "    ax.text(j, i, f'{val}', ha='center', va='center', color='black')\n",
    "\n",
    "  ax.set_xticks(np.arange(len(class_names)))\n",
    "  ax.set_yticks(np.arange(len(class_names)))\n",
    "  ax.set_xticklabels(class_names)\n",
    "  ax.set_yticklabels(class_names)\n",
    "  plt.xlabel('Predicción')\n",
    "  plt.ylabel('Real')\n",
    "  plt.title(title)\n",
    "  plt.show()"
   ]
  },
  {
   "cell_type": "code",
   "execution_count": null,
   "metadata": {},
   "outputs": [],
   "source": [
    "epochs = 70\n",
    "steps = 0\n",
    "train_losses, test_losses = [], []\n",
    "\n",
    "for e in range(epochs):\n",
    "  running_loss = 0\n",
    "  for images, labels in trainloader:\n",
    "    images = images.view(images.shape[0], -1)\n",
    "    optimizer.zero_grad()\n",
    "    log_ps = model(images)\n",
    "    loss = criterion(log_ps, labels)\n",
    "    loss.backward()\n",
    "    optimizer.step()\n",
    "    running_loss += loss.item()\n",
    "    \n",
    "  else:\n",
    "    test_loss = 0\n",
    "    accuracy = 0\n",
    "    all_labels = []\n",
    "    all_preds = []\n",
    "\n",
    "    with torch.no_grad():\n",
    "      for images, labels in testloader:\n",
    "        images = images.view(images.shape[0], -1)\n",
    "        log_ps = model(images)\n",
    "        test_loss += criterion(log_ps, labels)\n",
    "\n",
    "        ps = torch.exp(log_ps)\n",
    "        top_p, top_class = ps.topk(1, dim=1)\n",
    "        equals = top_class == labels.view(*top_class.shape)\n",
    "        accuracy += torch.mean(equals.type(torch.FloatTensor))\n",
    "        \n",
    "        all_labels.extend(labels.cpu().numpy())\n",
    "        all_preds.extend(top_class.cpu().numpy())\n",
    "    \n",
    "    cm = confusion_matrix(all_labels, all_preds)\n",
    "    print(\"\\nMatriz Total de Confusion:\")\n",
    "    plot_confusion_matrix(cm, clases, title=\"Matriz Total de Confusion\")\n",
    "\n",
    "    # Calculate metrics for each class\n",
    "    num_classes = cm.shape[0]\n",
    "    precisions, recalls, f1_scores, specificities = [], [], [], []\n",
    "    for i in range(num_classes):\n",
    "        tp = cm[i, i]\n",
    "        fn = cm[i, :].sum() - tp\n",
    "        fp = cm[:, i].sum() - tp\n",
    "        tn = cm.sum() - (tp + fn + fp)\n",
    "\n",
    "        precision = tp / (tp + fp) if (tp + fp) > 0 else 0\n",
    "        recall = tp / (tp + fn) if (tp + fn) > 0 else 0\n",
    "        f1 = 2 * (precision * recall) / (precision + recall) if (precision + recall) > 0 else 0\n",
    "        specificity = tn / (tn + fp) if (tn + fp) > 0 else 0\n",
    "\n",
    "        precisions.append(precision)\n",
    "        recalls.append(recall)\n",
    "        f1_scores.append(f1)\n",
    "        specificities.append(specificity)\n",
    "\n",
    "        print(f\"\\nMetrics for Class {i}:\")\n",
    "        print(f\"Precision: {precision:.3f}\")\n",
    "        print(f\"Recall: {recall:.3f}\")\n",
    "        print(f\"F1 Score: {f1:.3f}\")\n",
    "        print(f\"Specificity: {specificity:.3f}\")\n",
    "\n",
    "        # Plot confusion matrix for each class\n",
    "        class_cm = np.zeros_like(cm)\n",
    "        class_cm[i, i] = tp\n",
    "        for j in range(num_classes):\n",
    "            if j != i:\n",
    "                class_cm[i, j] = cm[i, j]\n",
    "                class_cm[j, i] = cm[j, i]\n",
    "        plot_confusion_matrix(class_cm, clases, title=f\"Matriz de Confusion Clase {i}\")\n",
    "\n",
    "    # Calculate weighted metrics for the overall model\n",
    "    precision_weighted = precision_score(all_labels, all_preds, average='weighted')\n",
    "    recall_weighted = recall_score(all_labels, all_preds, average='weighted')\n",
    "    f1_weighted = f1_score(all_labels, all_preds, average='weighted')\n",
    "    accuracy = accuracy_score(all_labels, all_preds)\n",
    "    avg_specificity = np.mean(specificities)\n",
    "\n",
    "    model.train()\n",
    "    train_losses.append(running_loss / len(trainloader))\n",
    "    test_losses.append(test_loss / len(testloader))\n",
    "\n",
    "    print(\"\\nEpoch: {}/{}.. \".format(e + 1, epochs),\n",
    "          \"Training Loss: {:.3f}.. \".format(train_losses[-1]),\n",
    "          \"Test Loss: {:.3f}.. \".format(test_losses[-1]),\n",
    "          \"Test Accuracy: {:.3f}\".format(accuracy),\n",
    "          \"Weighted Precision: {:.3f}\".format(precision_weighted),\n",
    "          \"Weighted Recall: {:.3f}\".format(recall_weighted),\n",
    "          \"Weighted F1 Score: {:.3f}\".format(f1_weighted),\n",
    "          \"Average Specificity: {:.3f}\".format(avg_specificity))\n"
   ]
  },
  {
   "cell_type": "code",
   "execution_count": null,
   "metadata": {},
   "outputs": [],
   "source": [
    "plt.plot(train_losses, label='Training loss')\n",
    "plt.plot(test_losses, label='Validation loss')\n",
    "plt.legend(frameon=False)"
   ]
  },
  {
   "cell_type": "code",
   "execution_count": null,
   "metadata": {},
   "outputs": [],
   "source": [
    "torch.save(model.state_dict(), 'modeloFinal1.pth')\n",
    "print(\"Modelo guardado exitosamente.\")"
   ]
  }
 ],
 "metadata": {
  "kernelspec": {
   "display_name": "Python 3",
   "language": "python",
   "name": "python3"
  },
  "language_info": {
   "codemirror_mode": {
    "name": "ipython",
    "version": 3
   },
   "file_extension": ".py",
   "mimetype": "text/x-python",
   "name": "python",
   "nbconvert_exporter": "python",
   "pygments_lexer": "ipython3",
   "version": "3.12.6"
  }
 },
 "nbformat": 4,
 "nbformat_minor": 2
}
