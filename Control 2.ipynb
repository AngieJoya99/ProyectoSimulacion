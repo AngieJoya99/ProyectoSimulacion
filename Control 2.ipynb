{
 "cells": [
  {
   "cell_type": "markdown",
   "metadata": {},
   "source": [
    "Importar Librerías"
   ]
  },
  {
   "cell_type": "code",
   "execution_count": 15,
   "metadata": {},
   "outputs": [],
   "source": [
    "import pandas as pd\n",
    "import numpy as np\n",
    "import h5py\n",
    "import os\n",
    "import torch\n",
    "#import helper\n",
    "import matplotlib.pyplot as plt\n",
    "import torch.nn.functional as F\n",
    "\n",
    "from torch.utils.data import Dataset\n",
    "from torch.utils.data import DataLoader\n",
    "from torchvision.datasets import ImageFolder\n",
    "from torchvision import transforms\n",
    "from torch import nn\n",
    "from collections import OrderedDict\n",
    "\n",
    "%matplotlib inline\n",
    "%config InlineBackend.figure_format = 'retina'"
   ]
  },
  {
   "cell_type": "markdown",
   "metadata": {},
   "source": [
    "Definir variables globales"
   ]
  },
  {
   "cell_type": "code",
   "execution_count": 16,
   "metadata": {},
   "outputs": [],
   "source": [
    "ancho = 160\n",
    "alto = 129\n",
    "canales = 3\n",
    "pixeles = ancho*alto*canales\n",
    "cantidadClases = 5\n",
    "clases = ['Banano', 'Granada', 'Kiwi', 'Mango', 'Pitaya']"
   ]
  },
  {
   "cell_type": "markdown",
   "metadata": {},
   "source": [
    "Definir Función Auxiliar"
   ]
  },
  {
   "cell_type": "code",
   "execution_count": 17,
   "metadata": {},
   "outputs": [],
   "source": [
    "def view_classify(img, ps):\n",
    "  ps = ps.data.numpy().squeeze()\n",
    "  fig, (ax1, ax2) = plt.subplots(figsize=(16,13), ncols=2)\n",
    "  ax1.imshow(img.numpy().transpose((1, 2, 0)))\n",
    "  ax1.axis('off')\n",
    "  ax2.barh(np.arange(cantidadClases), ps)\n",
    "  ax2.set_aspect(0.1)\n",
    "  ax2.set_yticks(np.arange(cantidadClases))\n",
    "  ax2.set_yticklabels(clases, size='medium');\n",
    "  ax2.set_title('Probabilidad de las Clases')\n",
    "  ax2.set_xlim(0, 1.1)\n",
    "\n",
    "  plt.tight_layout()"
   ]
  },
  {
   "cell_type": "markdown",
   "metadata": {},
   "source": [
    "Importar dataset"
   ]
  },
  {
   "cell_type": "code",
   "execution_count": 18,
   "metadata": {},
   "outputs": [],
   "source": [
    "#Se transforma a la mitad del tamaño por restricciones de memoria\n",
    "transform = transforms.Compose([transforms.Resize((ancho, 129)),transforms.ToTensor(),])\n",
    "current_dir = os.getcwd()\n",
    "dataset_path = os.path.join(current_dir, 'dataset', 'Frutas', 'Train')\n",
    "trainset = ImageFolder(root=dataset_path, transform=transform)\n",
    "trainloader = DataLoader(trainset, batch_size=64, shuffle=True)"
   ]
  },
  {
   "cell_type": "markdown",
   "metadata": {},
   "source": [
    "La función de activación será relu para las capas ocultas y softmax para la capa final: https://www.mdpi.com/2079-9292/12/14/3132\n",
    "\n",
    "Definir la estructura de la red y el forward"
   ]
  },
  {
   "cell_type": "code",
   "execution_count": 19,
   "metadata": {},
   "outputs": [],
   "source": [
    "class Network(nn.Module):\n",
    "  def __init__(self):\n",
    "    super().__init__()\n",
    "    self.fc1 = nn.Linear(pixeles, 20640)\n",
    "    self.fc2 = nn.Linear(20640, 6880)\n",
    "    self.fc3 = nn.Linear(6880, 2293)\n",
    "    self.fc4 = nn.Linear(2293, 764)\n",
    "    self.fc5 = nn.Linear(764, 254)\n",
    "    self.fc6 = nn.Linear(254, 84)\n",
    "    self.fc7 = nn.Linear(84, cantidadClases)\n",
    "      \n",
    "  def forward(self, x):\n",
    "    x = self.fc1(x)\n",
    "    x = F.relu(x)\n",
    "    x = self.fc2(x)\n",
    "    x = F.relu(x)\n",
    "    x = self.fc3(x)\n",
    "    x = F.relu(x)\n",
    "    x = self.fc4(x)\n",
    "    x = F.relu(x)\n",
    "    x = self.fc5(x)\n",
    "    x = F.relu(x)\n",
    "    x = self.fc6(x)\n",
    "    x = F.relu(x)\n",
    "    x = self.fc7(x)\n",
    "    x = F.softmax(x, dim=1)\n",
    "    \n",
    "    return x\n",
    "\n",
    "model = Network()"
   ]
  },
  {
   "cell_type": "markdown",
   "metadata": {},
   "source": [
    "Inicializar pesos y bias"
   ]
  },
  {
   "cell_type": "code",
   "execution_count": 20,
   "metadata": {},
   "outputs": [
    {
     "data": {
      "text/plain": [
       "tensor([[ 0.0071,  0.0002,  0.0025,  ..., -0.0082, -0.0102, -0.0102],\n",
       "        [-0.0190, -0.0124,  0.0025,  ...,  0.0053, -0.0036, -0.0009],\n",
       "        [-0.0080, -0.0055, -0.0137,  ...,  0.0114,  0.0089, -0.0130],\n",
       "        ...,\n",
       "        [-0.0221, -0.0023,  0.0063,  ...,  0.0167,  0.0048, -0.0103],\n",
       "        [-0.0092,  0.0074, -0.0132,  ...,  0.0002, -0.0030, -0.0044],\n",
       "        [-0.0037,  0.0060, -0.0181,  ..., -0.0053, -0.0180, -0.0143]])"
      ]
     },
     "execution_count": 20,
     "metadata": {},
     "output_type": "execute_result"
    }
   ],
   "source": [
    "model.fc1.bias.data.fill_(0)\n",
    "model.fc1.weight.data.normal_(std=0.01)"
   ]
  },
  {
   "cell_type": "markdown",
   "metadata": {},
   "source": [
    "Construir modelo con capas secuenciales"
   ]
  },
  {
   "cell_type": "code",
   "execution_count": 21,
   "metadata": {},
   "outputs": [
    {
     "name": "stdout",
     "output_type": "stream",
     "text": [
      "Sequential(\n",
      "  (capa1): Linear(in_features=61920, out_features=20640, bias=True)\n",
      "  (actv1): ReLU()\n",
      "  (capa2): Linear(in_features=20640, out_features=6880, bias=True)\n",
      "  (actv2): ReLU()\n",
      "  (capa3): Linear(in_features=6880, out_features=2293, bias=True)\n",
      "  (actv3): ReLU()\n",
      "  (capa4): Linear(in_features=2293, out_features=764, bias=True)\n",
      "  (actv4): ReLU()\n",
      "  (capa5): Linear(in_features=764, out_features=254, bias=True)\n",
      "  (actv5): ReLU()\n",
      "  (capa6): Linear(in_features=254, out_features=84, bias=True)\n",
      "  (actv6): ReLU()\n",
      "  (capa7): Linear(in_features=84, out_features=5, bias=True)\n",
      "  (actv7): Softmax(dim=1)\n",
      ")\n"
     ]
    }
   ],
   "source": [
    "input_size = pixeles\n",
    "hidden_sizes = [20640, 6880, 2293, 764, 254, 84]\n",
    "output_size = cantidadClases\n",
    "\n",
    "model = nn.Sequential(OrderedDict([\n",
    "  ('capa1',nn.Linear(input_size, hidden_sizes[0])),\n",
    "  ('actv1',nn.ReLU()),\n",
    "  ('capa2',nn.Linear(hidden_sizes[0], hidden_sizes[1])),\n",
    "  ('actv2',nn.ReLU()),\n",
    "  ('capa3',nn.Linear(hidden_sizes[1], hidden_sizes[2])),\n",
    "  ('actv3',nn.ReLU()),\n",
    "  ('capa4',nn.Linear(hidden_sizes[2], hidden_sizes[3])),\n",
    "  ('actv4',nn.ReLU()),\n",
    "  ('capa5',nn.Linear(hidden_sizes[3], hidden_sizes[4])),\n",
    "  ('actv5',nn.ReLU()),\n",
    "  ('capa6',nn.Linear(hidden_sizes[4], hidden_sizes[5])),\n",
    "  ('actv6',nn.ReLU()),\n",
    "  ('capa7',nn.Linear(hidden_sizes[5], output_size)),\n",
    "  ('actv7',nn.Softmax(dim=1))\n",
    "]))"
   ]
  },
  {
   "cell_type": "markdown",
   "metadata": {},
   "source": [
    "Realizar forward"
   ]
  },
  {
   "cell_type": "code",
   "execution_count": 23,
   "metadata": {},
   "outputs": [],
   "source": [
    "images,labels = next(iter(trainloader))\n",
    "images = images.view(images.shape[0], -1)\n",
    "ps = model.forward(images[0,:].unsqueeze(0))"
   ]
  },
  {
   "cell_type": "markdown",
   "metadata": {},
   "source": [
    "Calcular las pérdidas, nuestra predicción de error"
   ]
  },
  {
   "cell_type": "code",
   "execution_count": 26,
   "metadata": {},
   "outputs": [
    {
     "name": "stdout",
     "output_type": "stream",
     "text": [
      "tensor(-0.2007, grad_fn=<NllLossBackward0>)\n"
     ]
    }
   ],
   "source": [
    "criterion = nn.NLLLoss()\n",
    "\n",
    "images,labels = next(iter(trainloader))\n",
    "images = images.view(images.shape[0], -1)\n",
    "logps = model(images)\n",
    "loss = criterion(logps, labels)\n",
    "\n",
    "print(loss)"
   ]
  }
 ],
 "metadata": {
  "kernelspec": {
   "display_name": "Python 3",
   "language": "python",
   "name": "python3"
  },
  "language_info": {
   "codemirror_mode": {
    "name": "ipython",
    "version": 3
   },
   "file_extension": ".py",
   "mimetype": "text/x-python",
   "name": "python",
   "nbconvert_exporter": "python",
   "pygments_lexer": "ipython3",
   "version": "3.12.6"
  }
 },
 "nbformat": 4,
 "nbformat_minor": 2
}
