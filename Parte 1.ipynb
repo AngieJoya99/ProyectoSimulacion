{
 "cells": [
  {
   "cell_type": "code",
   "execution_count": 6,
   "metadata": {},
   "outputs": [
    {
     "name": "stdout",
     "output_type": "stream",
     "text": [
      "tensor([[0.1595]])\n"
     ]
    }
   ],
   "source": [
    "import torch\n",
    "\n",
    "def activation(x):\n",
    "  \"\"\" Sigmoid activation function \n",
    "  \n",
    "    Arguments\n",
    "    ---------\n",
    "    x: torch.Tensor\n",
    "  \"\"\"\n",
    "  return 1/(1+torch.exp(-x))\n",
    "\n",
    "torch.manual_seed(7)\n",
    "features = torch.randn((1, 5))\n",
    "weights = torch.randn_like(features)\n",
    "bias = torch.randn((1, 1))\n",
    "\n",
    "#Solución\n",
    "\n",
    "y = activation(torch.sum(features * weights) + bias)\n",
    "y = activation((features * weights).sum() + bias)\n",
    "\n",
    "print(y)"
   ]
  },
  {
   "cell_type": "markdown",
   "metadata": {},
   "source": [
    "**Importar dataset**"
   ]
  },
  {
   "cell_type": "code",
   "execution_count": 18,
   "metadata": {},
   "outputs": [
    {
     "name": "stdout",
     "output_type": "stream",
     "text": [
      "(750, 7)\n",
      "(750,)\n",
      "Features of entry no. 94: [  6.8  45.    1.    1.    1.    0.  245. ]\n",
      "Class label of entry no. 94: 2\n"
     ]
    }
   ],
   "source": [
    "import pandas as pd\n",
    "import numpy as np\n",
    "import h5py\n",
    "import os\n",
    "import torch\n",
    "from torch.utils.data import Dataset\n",
    "from torch.utils.data import DataLoader\n",
    "\n",
    "current_dir = os.getcwd()\n",
    "csv_path = os.path.join(current_dir, 'dataset', 'Train.csv')\n",
    "\n",
    "num_lines = 750\n",
    "num_features = 7\n",
    "\n",
    "class_dict = {'low': 0, 'medium': 1, 'high': 2}\n",
    "\n",
    "chunksize = 10\n",
    "\n",
    "with h5py.File('Train.h5', 'w') as h5f:\n",
    "    \n",
    "  dset1 = h5f.create_dataset(\n",
    "    'features',\n",
    "    shape=(num_lines, num_features),\n",
    "    compression=None,\n",
    "    dtype='float32'\n",
    "  )\n",
    "  dset2 = h5f.create_dataset(\n",
    "    'labels',\n",
    "    shape=(num_lines,),\n",
    "    compression=None,\n",
    "    dtype='int32')\n",
    "\n",
    "  for i in range(0, num_lines, chunksize):  \n",
    "    \n",
    "    df = pd.read_csv(\n",
    "      csv_path,  \n",
    "      header=None,  # no header, define column header manually later\n",
    "      nrows=chunksize, # number of rows to read at each iteration\n",
    "      skiprows=i # skip rows that were already read\n",
    "    )   \n",
    "    \n",
    "    df[7] = df[7].map(class_dict)\n",
    "\n",
    "    features = df.values[:, :7]\n",
    "    labels = df.values[:, -1]\n",
    "    \n",
    "    dset1[i:i+10, :] = features\n",
    "    dset2[i:i+10] = labels\n",
    "        \n",
    "with h5py.File('Train.h5', 'r') as h5f:\n",
    "  print(h5f['features'].shape)\n",
    "  print(h5f['labels'].shape)\n",
    "\n",
    "with h5py.File('Train.h5', 'r') as h5f:\n",
    "    print('Features of entry no. 94:', h5f['features'][93])\n",
    "    print('Class label of entry no. 94:', h5f['labels'][93])"
   ]
  }
 ],
 "metadata": {
  "kernelspec": {
   "display_name": "Python 3",
   "language": "python",
   "name": "python3"
  },
  "language_info": {
   "codemirror_mode": {
    "name": "ipython",
    "version": 3
   },
   "file_extension": ".py",
   "mimetype": "text/x-python",
   "name": "python",
   "nbconvert_exporter": "python",
   "pygments_lexer": "ipython3",
   "version": "3.12.6"
  }
 },
 "nbformat": 4,
 "nbformat_minor": 2
}
